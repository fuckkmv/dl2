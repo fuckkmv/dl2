{
  "nbformat": 4,
  "nbformat_minor": 0,
  "metadata": {
    "colab": {
      "provenance": []
    },
    "kernelspec": {
      "name": "python3",
      "display_name": "Python 3"
    },
    "language_info": {
      "name": "python"
    }
  },
  "cells": [
    {
      "cell_type": "code",
      "execution_count": 18,
      "metadata": {
        "id": "axzJlXiyW_dQ"
      },
      "outputs": [],
      "source": [
        "from numpy import array\n",
        "from tensorflow.keras.preprocessing.text import one_hot\n",
        "from tensorflow.keras.preprocessing.sequence import pad_sequences\n",
        "from tensorflow.keras.models import Sequential\n",
        "from tensorflow.keras.layers import Flatten,Embedding,Dense,LSTM"
      ]
    },
    {
      "cell_type": "code",
      "source": [
        "# Define 10 restaurant reviews\n",
        "reviews =[\n",
        "          'Never coming back!',\n",
        "          'horrible service',\n",
        "          'rude waitress',\n",
        "          'cold food',\n",
        "          'horrible food!',\n",
        "          'awesome',\n",
        "          'awesome services!',\n",
        "          'rocks',\n",
        "          'poor work',\n",
        "          'couldn\\'t have done better'\n",
        "]\n",
        "#Define labels\n",
        "labels = array([1,1,1,1,1,0,0,0,0,0])"
      ],
      "metadata": {
        "id": "BB1QhGvcXLg_"
      },
      "execution_count": 19,
      "outputs": []
    },
    {
      "cell_type": "code",
      "source": [
        "Vocab_size = 50\n",
        "encoded_reviews = [one_hot(d,Vocab_size) for d in reviews]\n",
        "print(f'encoded reviews: {encoded_reviews}')"
      ],
      "metadata": {
        "colab": {
          "base_uri": "https://localhost:8080/"
        },
        "id": "ZR7pcqKMXSmS",
        "outputId": "8200d384-79e8-43de-e077-bce53337a685"
      },
      "execution_count": 20,
      "outputs": [
        {
          "output_type": "stream",
          "name": "stdout",
          "text": [
            "encoded reviews: [[39, 18, 49], [16, 7], [34, 31], [45, 46], [16, 46], [1], [1, 45], [18], [25, 40], [44, 1, 5, 5]]\n"
          ]
        }
      ]
    },
    {
      "cell_type": "code",
      "source": [
        "max_length = 4\n",
        "padded_reviews = pad_sequences(encoded_reviews,maxlen=max_length,padding='post')\n",
        "print(padded_reviews)"
      ],
      "metadata": {
        "colab": {
          "base_uri": "https://localhost:8080/"
        },
        "id": "5o3Jn7eiXdX1",
        "outputId": "eaac7d80-3ddd-43e1-b676-5e178ad75953"
      },
      "execution_count": 21,
      "outputs": [
        {
          "output_type": "stream",
          "name": "stdout",
          "text": [
            "[[39 18 49  0]\n",
            " [16  7  0  0]\n",
            " [34 31  0  0]\n",
            " [45 46  0  0]\n",
            " [16 46  0  0]\n",
            " [ 1  0  0  0]\n",
            " [ 1 45  0  0]\n",
            " [18  0  0  0]\n",
            " [25 40  0  0]\n",
            " [44  1  5  5]]\n"
          ]
        }
      ]
    },
    {
      "cell_type": "code",
      "source": [
        "model = Sequential()\n",
        "embedding_layer = Embedding(input_dim=Vocab_size,output_dim=8,input_length=max_length)\n",
        "model.add(embedding_layer)\n",
        "model.add(LSTM(50, dropout=0.2, recurrent_dropout=0.2))\n",
        "#model.add(Flatten())\n",
        "model.add(Dense(1,activation='sigmoid'))\n",
        "model.compile(optimizer='adam',loss='binary_crossentropy',metrics=['acc'])\n",
        "print(model.summary())"
      ],
      "metadata": {
        "colab": {
          "base_uri": "https://localhost:8080/"
        },
        "id": "NDsZhzcOXjTt",
        "outputId": "b06258ae-1f38-48e0-d72a-d40984abd0df"
      },
      "execution_count": 27,
      "outputs": [
        {
          "output_type": "stream",
          "name": "stdout",
          "text": [
            "Model: \"sequential_3\"\n",
            "_________________________________________________________________\n",
            " Layer (type)                Output Shape              Param #   \n",
            "=================================================================\n",
            " embedding_3 (Embedding)     (None, 4, 8)              400       \n",
            "                                                                 \n",
            " lstm_1 (LSTM)               (None, 50)                11800     \n",
            "                                                                 \n",
            " dense_3 (Dense)             (None, 1)                 51        \n",
            "                                                                 \n",
            "=================================================================\n",
            "Total params: 12,251\n",
            "Trainable params: 12,251\n",
            "Non-trainable params: 0\n",
            "_________________________________________________________________\n",
            "None\n"
          ]
        }
      ]
    },
    {
      "cell_type": "code",
      "source": [
        "model.fit(padded_reviews,labels,epochs=100,verbose=1)"
      ],
      "metadata": {
        "colab": {
          "base_uri": "https://localhost:8080/"
        },
        "id": "RjH30gftXsTT",
        "outputId": "68b7637b-f4c6-47b3-e09f-55874cb790bd"
      },
      "execution_count": 28,
      "outputs": [
        {
          "output_type": "stream",
          "name": "stdout",
          "text": [
            "Epoch 1/100\n",
            "1/1 [==============================] - 4s 4s/step - loss: 0.6920 - acc: 0.6000\n",
            "Epoch 2/100\n",
            "1/1 [==============================] - 0s 27ms/step - loss: 0.6925 - acc: 0.7000\n",
            "Epoch 3/100\n",
            "1/1 [==============================] - 0s 18ms/step - loss: 0.6923 - acc: 0.5000\n",
            "Epoch 4/100\n",
            "1/1 [==============================] - 0s 20ms/step - loss: 0.6909 - acc: 0.7000\n",
            "Epoch 5/100\n",
            "1/1 [==============================] - 0s 20ms/step - loss: 0.6897 - acc: 1.0000\n",
            "Epoch 6/100\n",
            "1/1 [==============================] - 0s 16ms/step - loss: 0.6899 - acc: 1.0000\n",
            "Epoch 7/100\n",
            "1/1 [==============================] - 0s 17ms/step - loss: 0.6902 - acc: 0.9000\n",
            "Epoch 8/100\n",
            "1/1 [==============================] - 0s 16ms/step - loss: 0.6889 - acc: 0.9000\n",
            "Epoch 9/100\n",
            "1/1 [==============================] - 0s 16ms/step - loss: 0.6902 - acc: 0.9000\n",
            "Epoch 10/100\n",
            "1/1 [==============================] - 0s 16ms/step - loss: 0.6896 - acc: 0.8000\n",
            "Epoch 11/100\n",
            "1/1 [==============================] - 0s 15ms/step - loss: 0.6882 - acc: 0.8000\n",
            "Epoch 12/100\n",
            "1/1 [==============================] - 0s 15ms/step - loss: 0.6878 - acc: 0.9000\n",
            "Epoch 13/100\n",
            "1/1 [==============================] - 0s 16ms/step - loss: 0.6867 - acc: 1.0000\n",
            "Epoch 14/100\n",
            "1/1 [==============================] - 0s 19ms/step - loss: 0.6853 - acc: 1.0000\n",
            "Epoch 15/100\n",
            "1/1 [==============================] - 0s 21ms/step - loss: 0.6857 - acc: 1.0000\n",
            "Epoch 16/100\n",
            "1/1 [==============================] - 0s 18ms/step - loss: 0.6822 - acc: 0.9000\n",
            "Epoch 17/100\n",
            "1/1 [==============================] - 0s 20ms/step - loss: 0.6834 - acc: 0.9000\n",
            "Epoch 18/100\n",
            "1/1 [==============================] - 0s 21ms/step - loss: 0.6833 - acc: 1.0000\n",
            "Epoch 19/100\n",
            "1/1 [==============================] - 0s 19ms/step - loss: 0.6811 - acc: 1.0000\n",
            "Epoch 20/100\n",
            "1/1 [==============================] - 0s 17ms/step - loss: 0.6793 - acc: 1.0000\n",
            "Epoch 21/100\n",
            "1/1 [==============================] - 0s 18ms/step - loss: 0.6811 - acc: 1.0000\n",
            "Epoch 22/100\n",
            "1/1 [==============================] - 0s 23ms/step - loss: 0.6800 - acc: 0.8000\n",
            "Epoch 23/100\n",
            "1/1 [==============================] - 0s 18ms/step - loss: 0.6737 - acc: 1.0000\n",
            "Epoch 24/100\n",
            "1/1 [==============================] - 0s 20ms/step - loss: 0.6747 - acc: 1.0000\n",
            "Epoch 25/100\n",
            "1/1 [==============================] - 0s 18ms/step - loss: 0.6719 - acc: 1.0000\n",
            "Epoch 26/100\n",
            "1/1 [==============================] - 0s 16ms/step - loss: 0.6737 - acc: 0.9000\n",
            "Epoch 27/100\n",
            "1/1 [==============================] - 0s 30ms/step - loss: 0.6716 - acc: 1.0000\n",
            "Epoch 28/100\n",
            "1/1 [==============================] - 0s 19ms/step - loss: 0.6616 - acc: 1.0000\n",
            "Epoch 29/100\n",
            "1/1 [==============================] - 0s 18ms/step - loss: 0.6643 - acc: 1.0000\n",
            "Epoch 30/100\n",
            "1/1 [==============================] - 0s 16ms/step - loss: 0.6664 - acc: 0.9000\n",
            "Epoch 31/100\n",
            "1/1 [==============================] - 0s 19ms/step - loss: 0.6631 - acc: 1.0000\n",
            "Epoch 32/100\n",
            "1/1 [==============================] - 0s 18ms/step - loss: 0.6576 - acc: 1.0000\n",
            "Epoch 33/100\n",
            "1/1 [==============================] - 0s 18ms/step - loss: 0.6495 - acc: 1.0000\n",
            "Epoch 34/100\n",
            "1/1 [==============================] - 0s 24ms/step - loss: 0.6434 - acc: 1.0000\n",
            "Epoch 35/100\n",
            "1/1 [==============================] - 0s 21ms/step - loss: 0.6418 - acc: 1.0000\n",
            "Epoch 36/100\n",
            "1/1 [==============================] - 0s 17ms/step - loss: 0.6382 - acc: 1.0000\n",
            "Epoch 37/100\n",
            "1/1 [==============================] - 0s 17ms/step - loss: 0.6339 - acc: 1.0000\n",
            "Epoch 38/100\n",
            "1/1 [==============================] - 0s 18ms/step - loss: 0.6215 - acc: 1.0000\n",
            "Epoch 39/100\n",
            "1/1 [==============================] - 0s 17ms/step - loss: 0.6325 - acc: 1.0000\n",
            "Epoch 40/100\n",
            "1/1 [==============================] - 0s 17ms/step - loss: 0.6211 - acc: 1.0000\n",
            "Epoch 41/100\n",
            "1/1 [==============================] - 0s 18ms/step - loss: 0.6090 - acc: 1.0000\n",
            "Epoch 42/100\n",
            "1/1 [==============================] - 0s 20ms/step - loss: 0.6085 - acc: 1.0000\n",
            "Epoch 43/100\n",
            "1/1 [==============================] - 0s 17ms/step - loss: 0.6006 - acc: 1.0000\n",
            "Epoch 44/100\n",
            "1/1 [==============================] - 0s 19ms/step - loss: 0.5971 - acc: 1.0000\n",
            "Epoch 45/100\n",
            "1/1 [==============================] - 0s 18ms/step - loss: 0.5865 - acc: 1.0000\n",
            "Epoch 46/100\n",
            "1/1 [==============================] - 0s 18ms/step - loss: 0.5863 - acc: 1.0000\n",
            "Epoch 47/100\n",
            "1/1 [==============================] - 0s 19ms/step - loss: 0.5672 - acc: 1.0000\n",
            "Epoch 48/100\n",
            "1/1 [==============================] - 0s 16ms/step - loss: 0.5467 - acc: 1.0000\n",
            "Epoch 49/100\n",
            "1/1 [==============================] - 0s 17ms/step - loss: 0.5563 - acc: 1.0000\n",
            "Epoch 50/100\n",
            "1/1 [==============================] - 0s 20ms/step - loss: 0.5232 - acc: 1.0000\n",
            "Epoch 51/100\n",
            "1/1 [==============================] - 0s 17ms/step - loss: 0.5145 - acc: 1.0000\n",
            "Epoch 52/100\n",
            "1/1 [==============================] - 0s 23ms/step - loss: 0.4987 - acc: 1.0000\n",
            "Epoch 53/100\n",
            "1/1 [==============================] - 0s 21ms/step - loss: 0.4813 - acc: 1.0000\n",
            "Epoch 54/100\n",
            "1/1 [==============================] - 0s 20ms/step - loss: 0.4631 - acc: 1.0000\n",
            "Epoch 55/100\n",
            "1/1 [==============================] - 0s 18ms/step - loss: 0.4604 - acc: 1.0000\n",
            "Epoch 56/100\n",
            "1/1 [==============================] - 0s 20ms/step - loss: 0.4386 - acc: 1.0000\n",
            "Epoch 57/100\n",
            "1/1 [==============================] - 0s 21ms/step - loss: 0.4317 - acc: 1.0000\n",
            "Epoch 58/100\n",
            "1/1 [==============================] - 0s 20ms/step - loss: 0.4016 - acc: 1.0000\n",
            "Epoch 59/100\n",
            "1/1 [==============================] - 0s 17ms/step - loss: 0.3820 - acc: 1.0000\n",
            "Epoch 60/100\n",
            "1/1 [==============================] - 0s 26ms/step - loss: 0.3592 - acc: 1.0000\n",
            "Epoch 61/100\n",
            "1/1 [==============================] - 0s 16ms/step - loss: 0.3409 - acc: 1.0000\n",
            "Epoch 62/100\n",
            "1/1 [==============================] - 0s 16ms/step - loss: 0.3617 - acc: 1.0000\n",
            "Epoch 63/100\n",
            "1/1 [==============================] - 0s 15ms/step - loss: 0.3139 - acc: 1.0000\n",
            "Epoch 64/100\n",
            "1/1 [==============================] - 0s 17ms/step - loss: 0.2837 - acc: 1.0000\n",
            "Epoch 65/100\n",
            "1/1 [==============================] - 0s 17ms/step - loss: 0.2506 - acc: 1.0000\n",
            "Epoch 66/100\n",
            "1/1 [==============================] - 0s 17ms/step - loss: 0.2384 - acc: 1.0000\n",
            "Epoch 67/100\n",
            "1/1 [==============================] - 0s 17ms/step - loss: 0.2672 - acc: 1.0000\n",
            "Epoch 68/100\n",
            "1/1 [==============================] - 0s 18ms/step - loss: 0.2013 - acc: 1.0000\n",
            "Epoch 69/100\n",
            "1/1 [==============================] - 0s 17ms/step - loss: 0.1846 - acc: 1.0000\n",
            "Epoch 70/100\n",
            "1/1 [==============================] - 0s 20ms/step - loss: 0.2011 - acc: 1.0000\n",
            "Epoch 71/100\n",
            "1/1 [==============================] - 0s 20ms/step - loss: 0.1396 - acc: 1.0000\n",
            "Epoch 72/100\n",
            "1/1 [==============================] - 0s 17ms/step - loss: 0.1495 - acc: 1.0000\n",
            "Epoch 73/100\n",
            "1/1 [==============================] - 0s 17ms/step - loss: 0.1136 - acc: 1.0000\n",
            "Epoch 74/100\n",
            "1/1 [==============================] - 0s 17ms/step - loss: 0.1022 - acc: 1.0000\n",
            "Epoch 75/100\n",
            "1/1 [==============================] - 0s 16ms/step - loss: 0.0745 - acc: 1.0000\n",
            "Epoch 76/100\n",
            "1/1 [==============================] - 0s 16ms/step - loss: 0.0825 - acc: 1.0000\n",
            "Epoch 77/100\n",
            "1/1 [==============================] - 0s 23ms/step - loss: 0.0750 - acc: 1.0000\n",
            "Epoch 78/100\n",
            "1/1 [==============================] - 0s 21ms/step - loss: 0.0712 - acc: 1.0000\n",
            "Epoch 79/100\n",
            "1/1 [==============================] - 0s 22ms/step - loss: 0.0635 - acc: 1.0000\n",
            "Epoch 80/100\n",
            "1/1 [==============================] - 0s 19ms/step - loss: 0.0620 - acc: 1.0000\n",
            "Epoch 81/100\n",
            "1/1 [==============================] - 0s 18ms/step - loss: 0.0621 - acc: 1.0000\n",
            "Epoch 82/100\n",
            "1/1 [==============================] - 0s 17ms/step - loss: 0.0514 - acc: 1.0000\n",
            "Epoch 83/100\n",
            "1/1 [==============================] - 0s 16ms/step - loss: 0.0371 - acc: 1.0000\n",
            "Epoch 84/100\n",
            "1/1 [==============================] - 0s 18ms/step - loss: 0.0484 - acc: 1.0000\n",
            "Epoch 85/100\n",
            "1/1 [==============================] - 0s 24ms/step - loss: 0.0268 - acc: 1.0000\n",
            "Epoch 86/100\n",
            "1/1 [==============================] - 0s 25ms/step - loss: 0.0357 - acc: 1.0000\n",
            "Epoch 87/100\n",
            "1/1 [==============================] - 0s 21ms/step - loss: 0.0187 - acc: 1.0000\n",
            "Epoch 88/100\n",
            "1/1 [==============================] - 0s 29ms/step - loss: 0.0283 - acc: 1.0000\n",
            "Epoch 89/100\n",
            "1/1 [==============================] - 0s 26ms/step - loss: 0.0203 - acc: 1.0000\n",
            "Epoch 90/100\n",
            "1/1 [==============================] - 0s 22ms/step - loss: 0.0205 - acc: 1.0000\n",
            "Epoch 91/100\n",
            "1/1 [==============================] - 0s 17ms/step - loss: 0.0178 - acc: 1.0000\n",
            "Epoch 92/100\n",
            "1/1 [==============================] - 0s 16ms/step - loss: 0.0133 - acc: 1.0000\n",
            "Epoch 93/100\n",
            "1/1 [==============================] - 0s 18ms/step - loss: 0.0143 - acc: 1.0000\n",
            "Epoch 94/100\n",
            "1/1 [==============================] - 0s 20ms/step - loss: 0.0116 - acc: 1.0000\n",
            "Epoch 95/100\n",
            "1/1 [==============================] - 0s 19ms/step - loss: 0.0093 - acc: 1.0000\n",
            "Epoch 96/100\n",
            "1/1 [==============================] - 0s 18ms/step - loss: 0.0105 - acc: 1.0000\n",
            "Epoch 97/100\n",
            "1/1 [==============================] - 0s 20ms/step - loss: 0.0096 - acc: 1.0000\n",
            "Epoch 98/100\n",
            "1/1 [==============================] - 0s 19ms/step - loss: 0.0112 - acc: 1.0000\n",
            "Epoch 99/100\n",
            "1/1 [==============================] - 0s 20ms/step - loss: 0.0071 - acc: 1.0000\n",
            "Epoch 100/100\n",
            "1/1 [==============================] - 0s 16ms/step - loss: 0.0109 - acc: 1.0000\n"
          ]
        },
        {
          "output_type": "execute_result",
          "data": {
            "text/plain": [
              "<keras.callbacks.History at 0x7f8c68052d90>"
            ]
          },
          "metadata": {},
          "execution_count": 28
        }
      ]
    },
    {
      "cell_type": "code",
      "source": [
        "print(embedding_layer.get_weights()[0].shape)"
      ],
      "metadata": {
        "colab": {
          "base_uri": "https://localhost:8080/"
        },
        "id": "xOZ33Xf7XwNp",
        "outputId": "e1a90433-6470-4681-d349-447c2aac4662"
      },
      "execution_count": 24,
      "outputs": [
        {
          "output_type": "stream",
          "name": "stdout",
          "text": [
            "(50, 8)\n"
          ]
        }
      ]
    },
    {
      "cell_type": "code",
      "source": [
        "print(model.predict(padded_reviews)[3])"
      ],
      "metadata": {
        "id": "So4PUuZlX47c",
        "outputId": "ac77960c-0143-4ef8-fd8b-f294b7ce2cab",
        "colab": {
          "base_uri": "https://localhost:8080/"
        }
      },
      "execution_count": 30,
      "outputs": [
        {
          "output_type": "stream",
          "name": "stdout",
          "text": [
            "1/1 [==============================] - 0s 25ms/step\n",
            "[0.98601276]\n"
          ]
        }
      ]
    }
  ]
}